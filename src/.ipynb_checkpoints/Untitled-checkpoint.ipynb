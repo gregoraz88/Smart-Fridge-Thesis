{
 "cells": [
  {
   "cell_type": "code",
   "execution_count": null,
   "metadata": {},
   "outputs": [],
   "source": [
    "from pandas.io.json import json_normalize\n",
    "import json\n",
    "from os import chdir,getcwd\n",
    "\n",
    "\n",
    "def visualize_json_data(path):\n",
    "    path = 'C:/Users/gregh/Desktop/data_for_visual'\n",
    "    barcode_file_path = path\n",
    "\n",
    "    with open(path + barcode_file_path) as json_file:\n",
    "        barcode_data = json.load(json_file)\n",
    "\n",
    "    provider = json_normalize(data=barcode_data)\n",
    "    provider.head()\n",
    "\n",
    "\n",
    "def main_for_visual():\n",
    "    ##barcode visualization first all barcodes and then show the translated version\n",
    "    ##perform some test to check the difference\n",
    "    visualize_json_dat('/barcodes_all_codes_test2_real.json')\n",
    "    visualize_json_data('/translated_barcodes.json')\n",
    "\n",
    "    ##recipe visualization \n",
    "    visualize_json_dat('/final_cuisine_recipes.json')\n",
    "    visualize_json_data('/final_special_diets.json')\n",
    "\n",
    "\n",
    "main_for_visual()"
   ]
  }
 ],
 "metadata": {
  "kernelspec": {
   "display_name": "Python 3",
   "language": "python",
   "name": "python3"
  },
  "language_info": {
   "codemirror_mode": {
    "name": "ipython",
    "version": 3
   },
   "file_extension": ".py",
   "mimetype": "text/x-python",
   "name": "python",
   "nbconvert_exporter": "python",
   "pygments_lexer": "ipython3",
   "version": "3.7.3"
  }
 },
 "nbformat": 4,
 "nbformat_minor": 2
}
